{
  "nbformat": 4,
  "nbformat_minor": 0,
  "metadata": {
    "colab": {
      "provenance": []
    },
    "kernelspec": {
      "name": "python3",
      "display_name": "Python 3"
    },
    "language_info": {
      "name": "python"
    }
  },
  "cells": [
    {
      "cell_type": "code",
      "execution_count": 1,
      "metadata": {
        "colab": {
          "base_uri": "https://localhost:8080/"
        },
        "id": "wBSLC3zAjDUM",
        "outputId": "3e52ef52-8fef-4e2a-912e-5c94b7703dec"
      },
      "outputs": [
        {
          "output_type": "stream",
          "name": "stdout",
          "text": [
            "Acurácia do modelo: 0.34\n",
            "Risco de empréstimo para o novo exemplo: ['Baixo']\n"
          ]
        }
      ],
      "source": [
        "# Importando bibliotecas necessárias\n",
        "import pandas as pd\n",
        "from sklearn.model_selection import train_test_split\n",
        "from sklearn.tree import DecisionTreeClassifier\n",
        "from sklearn.metrics import accuracy_score\n",
        "import warnings\n",
        "warnings.filterwarnings(\"ignore\", message=\"X does not have valid feature names\") # Gambiarra LOL ;p\n",
        "\n",
        "# Carregando o dataset com os dados históricos de empréstimos\n",
        "dataset = pd.read_csv('/content/dados_emprestimo.csv')\n",
        "\n",
        "### Pré-processamento dos dados ###\n",
        "\n",
        "# Separando os dados em atributos (X) e rótulos (y)\n",
        "X = dataset.drop('Risco', axis=1)  # Atributos\n",
        "y = dataset['Risco']  # Rótulos\n",
        "\n",
        "# Dividindo o conjunto de dados em treinamento e teste\n",
        "X_train, X_test, y_train, y_test = train_test_split(X, y, test_size=0.2, random_state=42)\n",
        "\n",
        "# Criando o modelo de classificação\n",
        "modelo = DecisionTreeClassifier()\n",
        "\n",
        "# Treinando o modelo\n",
        "modelo.fit(X_train, y_train)\n",
        "\n",
        "# Realizando previsões no conjunto de teste\n",
        "y_pred = modelo.predict(X_test)\n",
        "\n",
        "# Avaliando a acurácia do modelo\n",
        "acuracia = accuracy_score(y_test, y_pred)\n",
        "print(f'Acurácia do modelo: {acuracia}')\n",
        "\n",
        "# Realizando a previsão para um novo exemplo\n",
        "novo_exemplo = [[37,4,74245,4500]] # Risco Alto\n",
        "novo_exemplo = [[47,1,58381,516]] # Risco Baixo\n",
        "risco = modelo.predict(novo_exemplo)\n",
        "print(f'Risco de empréstimo para o novo exemplo: {risco}')"
      ]
    }
  ]
}